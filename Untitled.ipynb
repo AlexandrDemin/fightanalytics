{
 "cells": [
  {
   "cell_type": "code",
   "execution_count": 3,
   "metadata": {
    "collapsed": false
   },
   "outputs": [],
   "source": [
    "from Models import (app, db, Fight, Fighter, Attack, Defence, Maneuver, Trick, Forbidden, Missed)\n",
    "import CounterattackType\n",
    "import DefenceCharacter\n",
    "import DefenceType\n",
    "import FightActionDirection\n",
    "import ForbiddenType\n",
    "import MissedType\n",
    "import Sports\n",
    "import StrikeCharacter\n",
    "import StrikeTarget\n",
    "import StrikeType\n",
    "import TrickType\n",
    "import WeightClass"
   ]
  },
  {
   "cell_type": "code",
   "execution_count": 5,
   "metadata": {
    "collapsed": false
   },
   "outputs": [],
   "source": [
    "db.create_all()"
   ]
  },
  {
   "cell_type": "code",
   "execution_count": null,
   "metadata": {
    "collapsed": true
   },
   "outputs": [],
   "source": []
  }
 ],
 "metadata": {
  "kernelspec": {
   "display_name": "Python 3",
   "language": "python",
   "name": "python3"
  },
  "language_info": {
   "codemirror_mode": {
    "name": "ipython",
    "version": 3
   },
   "file_extension": ".py",
   "mimetype": "text/x-python",
   "name": "python",
   "nbconvert_exporter": "python",
   "pygments_lexer": "ipython3",
   "version": "3.6.0"
  }
 },
 "nbformat": 4,
 "nbformat_minor": 2
}
